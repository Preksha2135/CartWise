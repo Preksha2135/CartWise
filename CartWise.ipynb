{
 "cells": [
  {
   "cell_type": "markdown",
   "id": "833fd0da",
   "metadata": {},
   "source": [
    "Image preprocessing steps I've used in this project:\n",
    "1) Grayscaling\n",
    "2) Binarization\n",
    "3) Sharpening filter"
   ]
  },
  {
   "cell_type": "code",
   "execution_count": 1,
   "id": "4f4bfb43",
   "metadata": {},
   "outputs": [],
   "source": [
    "# !pip install opencv-python-headless pytesseract Pillow"
   ]
  },
  {
   "cell_type": "code",
   "execution_count": 20,
   "id": "176fe37d",
   "metadata": {
    "scrolled": false
   },
   "outputs": [
    {
     "name": "stdout",
     "output_type": "stream",
     "text": [
      "Product 1 image exists: True\n",
      "Product 2 image exists: True\n",
      "\n",
      "COMPARISON:\n",
      "\n",
      "Product 1:\n",
      "Price: Rs 649.00\n",
      "Quantity: 500g\n",
      "\n",
      "Product 2:\n",
      "Price: Rs 85\n",
      "Quantity: 1kg\n",
      "\n"
     ]
    }
   ],
   "source": [
    "# Install the necessary libraries\n",
    "\n",
    "import numpy as np\n",
    "import cv2\n",
    "from PIL import Image\n",
    "import pytesseract\n",
    "import os\n",
    "import re\n",
    "\n",
    "# For Windows: Set the path to the installed Tesseract executable\n",
    "pytesseract.pytesseract.tesseract_cmd = r'C:\\Program Files\\Tesseract-OCR\\tesseract.exe'\n",
    "\n",
    "\n",
    "# Function to preprocess the image by converting to grayscale and applying threshold\n",
    "def preprocess_image(image_path):\n",
    "    image = cv2.imread(image_path)\n",
    "    if image is None:\n",
    "        raise FileNotFoundError(f\"Image not found at {image_path}\")\n",
    "    \n",
    "    # Convert to grayscale\n",
    "    gray = cv2.cvtColor(image, cv2.COLOR_BGR2GRAY)\n",
    "    \n",
    "    # Apply a binary threshold to make the text more clear\n",
    "    _, thresh = cv2.threshold(gray, 150, 255, cv2.THRESH_BINARY)\n",
    "    \n",
    "    \n",
    "    kernel_sharpen = np.array([[-1, -1, -1],\n",
    "                           [-1,  9, -1],\n",
    "                           [-1, -1, -1]])\n",
    "    sharpened_img = cv2.filter2D(thresh, -1, kernel_sharpen)\n",
    "\n",
    "\n",
    "    \n",
    "    # Save and return the preprocessed image path\n",
    "    processed_image_path = image_path.replace(\".jpg\", \"_processed.jpg\")\n",
    "    cv2.imwrite(processed_image_path, sharpened_img)\n",
    "    return processed_image_path\n",
    "\n",
    "# Function to extract text from an image after preprocessing\n",
    "def extract_text_from_image(image_path):\n",
    "    # Preprocess the image (convert to grayscale and thresholding)\n",
    "    processed_image_path = preprocess_image(image_path)\n",
    "    \n",
    "    # Open the processed image using PIL\n",
    "    image = Image.open(processed_image_path)\n",
    "    \n",
    "    # Extract text using pytesseract\n",
    "    text = pytesseract.image_to_string(image)\n",
    "    return text\n",
    "\n",
    "# Function to parse the price from the extracted text\n",
    "def parse_price(text):\n",
    "    price_pattern = r'Rs[\\.\\s]*[0-9]+[\\./0-9]*'  # Refined price pattern\n",
    "    match = re.search(price_pattern, text)\n",
    "    return match.group(0) if match else \"Price not found\"\n",
    "\n",
    "# Function to parse the quantity from the extracted text\n",
    "def parse_quantity(text):\n",
    "    quantity_pattern = r'[0-9]+\\s?[kK]?[gG]' # Refined quantity pattern\n",
    "    match = re.search(quantity_pattern, text)\n",
    "    return match.group(0) if match else \"Quantity not found\"\n",
    "\n",
    "# Main function to compare products based on their images\n",
    "def compare_products(image1_path, image2_path):\n",
    "    # Extract text from both images\n",
    "    text1 = extract_text_from_image(image1_path)\n",
    "    text2 = extract_text_from_image(image2_path)\n",
    "    \n",
    "    # Parse price and quantity for both products\n",
    "    price1 = parse_price(text1)\n",
    "    quantity1 = parse_quantity(text1)\n",
    "    \n",
    "    price2 = parse_price(text2)\n",
    "    quantity2 = parse_quantity(text2)\n",
    "    \n",
    "    # Display the comparison results\n",
    "    print(\"COMPARISON:\")\n",
    "    print()\n",
    "    print(\"Product 1:\")\n",
    "    print(f\"Price: {price1}\")\n",
    "    print(f\"Quantity: {quantity1}\\n\")\n",
    "    \n",
    "    print(\"Product 2:\")\n",
    "    print(f\"Price: {price2}\")\n",
    "    print(f\"Quantity: {quantity2}\\n\")\n",
    "    \n",
    "    # Return a comparison dictionary (optional for further use)\n",
    "    comparison_result = {\n",
    "        'Product 1': {'Price': price1, 'Quantity': quantity1},\n",
    "        'Product 2': {'Price': price2, 'Quantity': quantity2}\n",
    "    }\n",
    "    \n",
    "    return comparison_result\n",
    "\n",
    "# Paths to the uploaded images\n",
    "image1_path = './assets/product1.jpg'\n",
    "image2_path = './assets/product2.jpg'\n",
    "\n",
    "# Ensure the images are available\n",
    "print(\"Product 1 image exists:\", os.path.exists(image1_path))\n",
    "print(\"Product 2 image exists:\", os.path.exists(image2_path))\n",
    "print()\n",
    "\n",
    "# Compare the products by extracting text and parsing price and quantity\n",
    "comparison = compare_products(image1_path, image2_path)\n"
   ]
  },
  {
   "cell_type": "code",
   "execution_count": 3,
   "id": "74f17c2d",
   "metadata": {},
   "outputs": [
    {
     "name": "stdout",
     "output_type": "stream",
     "text": [
      "Note: you may need to restart the kernel to use updated packages.\n"
     ]
    }
   ],
   "source": [
    "pip freeze > requirements.txt"
   ]
  }
 ],
 "metadata": {
  "kernelspec": {
   "display_name": "Python 3 (ipykernel)",
   "language": "python",
   "name": "python3"
  },
  "language_info": {
   "codemirror_mode": {
    "name": "ipython",
    "version": 3
   },
   "file_extension": ".py",
   "mimetype": "text/x-python",
   "name": "python",
   "nbconvert_exporter": "python",
   "pygments_lexer": "ipython3",
   "version": "3.11.3"
  }
 },
 "nbformat": 4,
 "nbformat_minor": 5
}
